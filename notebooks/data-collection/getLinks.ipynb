{
 "cells": [
  {
   "cell_type": "code",
   "execution_count": 38,
   "metadata": {},
   "outputs": [
    {
     "name": "stdout",
     "output_type": "stream",
     "text": [
      "Requirement already satisfied: selenium in /Library/Frameworks/Python.framework/Versions/3.12/lib/python3.12/site-packages (4.29.0)\n",
      "Requirement already satisfied: webdriver-manager in /Library/Frameworks/Python.framework/Versions/3.12/lib/python3.12/site-packages (4.0.2)\n",
      "Requirement already satisfied: beautifulsoup4 in /Library/Frameworks/Python.framework/Versions/3.12/lib/python3.12/site-packages (4.13.3)\n",
      "Requirement already satisfied: python-dotenv in /Library/Frameworks/Python.framework/Versions/3.12/lib/python3.12/site-packages (1.0.1)\n",
      "Requirement already satisfied: pandas in /Library/Frameworks/Python.framework/Versions/3.12/lib/python3.12/site-packages (2.2.3)\n",
      "Requirement already satisfied: requests in /Library/Frameworks/Python.framework/Versions/3.12/lib/python3.12/site-packages (2.32.3)\n",
      "Requirement already satisfied: urllib3<3,>=1.26 in /Library/Frameworks/Python.framework/Versions/3.12/lib/python3.12/site-packages (from urllib3[socks]<3,>=1.26->selenium) (2.3.0)\n",
      "Requirement already satisfied: trio~=0.17 in /Library/Frameworks/Python.framework/Versions/3.12/lib/python3.12/site-packages (from selenium) (0.29.0)\n",
      "Requirement already satisfied: trio-websocket~=0.9 in /Library/Frameworks/Python.framework/Versions/3.12/lib/python3.12/site-packages (from selenium) (0.12.2)\n",
      "Requirement already satisfied: certifi>=2021.10.8 in /Library/Frameworks/Python.framework/Versions/3.12/lib/python3.12/site-packages (from selenium) (2023.7.22)\n",
      "Requirement already satisfied: typing_extensions~=4.9 in /Library/Frameworks/Python.framework/Versions/3.12/lib/python3.12/site-packages (from selenium) (4.12.2)\n",
      "Requirement already satisfied: websocket-client~=1.8 in /Library/Frameworks/Python.framework/Versions/3.12/lib/python3.12/site-packages (from selenium) (1.8.0)\n",
      "Requirement already satisfied: packaging in /Users/mackumara/Library/Python/3.12/lib/python/site-packages (from webdriver-manager) (24.2)\n",
      "Requirement already satisfied: soupsieve>1.2 in /Library/Frameworks/Python.framework/Versions/3.12/lib/python3.12/site-packages (from beautifulsoup4) (2.6)\n",
      "Requirement already satisfied: numpy>=1.26.0 in /Library/Frameworks/Python.framework/Versions/3.12/lib/python3.12/site-packages (from pandas) (2.2.3)\n",
      "Requirement already satisfied: python-dateutil>=2.8.2 in /Users/mackumara/Library/Python/3.12/lib/python/site-packages (from pandas) (2.9.0.post0)\n",
      "Requirement already satisfied: pytz>=2020.1 in /Library/Frameworks/Python.framework/Versions/3.12/lib/python3.12/site-packages (from pandas) (2025.1)\n",
      "Requirement already satisfied: tzdata>=2022.7 in /Library/Frameworks/Python.framework/Versions/3.12/lib/python3.12/site-packages (from pandas) (2025.1)\n",
      "Requirement already satisfied: charset-normalizer<4,>=2 in /Library/Frameworks/Python.framework/Versions/3.12/lib/python3.12/site-packages (from requests) (3.4.1)\n",
      "Requirement already satisfied: idna<4,>=2.5 in /Library/Frameworks/Python.framework/Versions/3.12/lib/python3.12/site-packages (from requests) (3.10)\n",
      "Requirement already satisfied: six>=1.5 in /Users/mackumara/Library/Python/3.12/lib/python/site-packages (from python-dateutil>=2.8.2->pandas) (1.17.0)\n",
      "Requirement already satisfied: attrs>=23.2.0 in /Library/Frameworks/Python.framework/Versions/3.12/lib/python3.12/site-packages (from trio~=0.17->selenium) (25.1.0)\n",
      "Requirement already satisfied: sortedcontainers in /Library/Frameworks/Python.framework/Versions/3.12/lib/python3.12/site-packages (from trio~=0.17->selenium) (2.4.0)\n",
      "Requirement already satisfied: outcome in /Library/Frameworks/Python.framework/Versions/3.12/lib/python3.12/site-packages (from trio~=0.17->selenium) (1.3.0.post0)\n",
      "Requirement already satisfied: sniffio>=1.3.0 in /Library/Frameworks/Python.framework/Versions/3.12/lib/python3.12/site-packages (from trio~=0.17->selenium) (1.3.1)\n",
      "Requirement already satisfied: wsproto>=0.14 in /Library/Frameworks/Python.framework/Versions/3.12/lib/python3.12/site-packages (from trio-websocket~=0.9->selenium) (1.2.0)\n",
      "Requirement already satisfied: pysocks!=1.5.7,<2.0,>=1.5.6 in /Library/Frameworks/Python.framework/Versions/3.12/lib/python3.12/site-packages (from urllib3[socks]<3,>=1.26->selenium) (1.7.1)\n",
      "Requirement already satisfied: h11<1,>=0.9.0 in /Library/Frameworks/Python.framework/Versions/3.12/lib/python3.12/site-packages (from wsproto>=0.14->trio-websocket~=0.9->selenium) (0.14.0)\n",
      "\n",
      "\u001b[1m[\u001b[0m\u001b[34;49mnotice\u001b[0m\u001b[1;39;49m]\u001b[0m\u001b[39;49m A new release of pip is available: \u001b[0m\u001b[31;49m24.0\u001b[0m\u001b[39;49m -> \u001b[0m\u001b[32;49m25.0.1\u001b[0m\n",
      "\u001b[1m[\u001b[0m\u001b[34;49mnotice\u001b[0m\u001b[1;39;49m]\u001b[0m\u001b[39;49m To update, run: \u001b[0m\u001b[32;49mpip3 install --upgrade pip\u001b[0m\n",
      "Note: you may need to restart the kernel to use updated packages.\n"
     ]
    }
   ],
   "source": [
    "pip install selenium webdriver-manager beautifulsoup4 python-dotenv pandas requests"
   ]
  },
  {
   "cell_type": "code",
   "execution_count": 1,
   "metadata": {},
   "outputs": [],
   "source": [
    "import csv\n",
    "import os\n",
    "import time\n",
    "from selenium import webdriver\n",
    "from selenium.webdriver.common.by import By\n",
    "from bs4 import BeautifulSoup"
   ]
  },
  {
   "cell_type": "code",
   "execution_count": 2,
   "metadata": {},
   "outputs": [],
   "source": [
    "# Inisialisasi Selenium WebDriver\n",
    "driver = webdriver.Chrome()\n",
    "\n",
    "target_url = \"https://ieeexplore.ieee.org/xpl/issues?punumber=6287639&isnumber=10820123\"\n",
    "driver.get(target_url)\n",
    "\n",
    "time.sleep(5)"
   ]
  },
  {
   "cell_type": "code",
   "execution_count": 3,
   "metadata": {},
   "outputs": [
    {
     "name": "stdout",
     "output_type": "stream",
     "text": [
      "🔗 Ditemukan 13 link artikel unik:\n",
      "https://ieeexplore.ieee.org/xpl/tocresult.jsp?isnumber=10820123&punumber=6287639\n",
      "https://ieeexplore.ieee.org/xpl/tocresult.jsp?isnumber=10005208&punumber=6287639\n",
      "https://ieeexplore.ieee.org/xpl/tocresult.jsp?isnumber=9668973&punumber=6287639\n",
      "https://ieeexplore.ieee.org/xpl/tocresult.jsp?isnumber=8948470&punumber=6287639\n",
      "https://ieeexplore.ieee.org/xpl/tocresult.jsp?isnumber=6336544&punumber=6287639\n",
      "https://ieeexplore.ieee.org/xpl/tocresult.jsp?isnumber=10380310&punumber=6287639\n",
      "https://ieeexplore.ieee.org/xpl/tocresult.jsp?isnumber=7859429&punumber=6287639\n",
      "https://ieeexplore.ieee.org/xpl/tocresult.jsp?isnumber=8274985&punumber=6287639\n",
      "https://ieeexplore.ieee.org/xpl/tocresult.jsp?isnumber=7042252&punumber=6287639\n",
      "https://ieeexplore.ieee.org/xpl/tocresult.jsp?isnumber=9312710&punumber=6287639\n",
      "https://ieeexplore.ieee.org/xpl/tocresult.jsp?isnumber=8600701&punumber=6287639\n",
      "https://ieeexplore.ieee.org/xpl/tocresult.jsp?isnumber=7419931&punumber=6287639\n",
      "https://ieeexplore.ieee.org/xpl/tocresult.jsp?isnumber=6705689&punumber=6287639\n",
      "✅ Berhasil menyimpan 13.\n"
     ]
    }
   ],
   "source": [
    "# Cari semua elemen div yang berisi link\n",
    "posts = driver.find_elements(By.CLASS_NAME, \"issue-details-past-tabs\")\n",
    "\n",
    "# Set untuk menyimpan link unik\n",
    "volume_links = set()\n",
    "\n",
    "# Loop untuk mencari semua link\n",
    "for post in posts:\n",
    "    link_tags = post.find_elements(By.TAG_NAME, \"a\")  # Cari langsung elemen <a>\n",
    "    \n",
    "    for link_tag in link_tags:\n",
    "        href = link_tag.get_attribute(\"href\")  # Ambil atribut href\n",
    "        if href:\n",
    "            base_link = \"https://ieeexplore.ieee.org\" + href if href.startswith(\"/xpl\") else href\n",
    "            volume_links.add(base_link)  # Simpan dalam set untuk menghindari duplikasi\n",
    "\n",
    "# Debug: Cek semua link yang ditemukan\n",
    "print(f\"🔗 Ditemukan {len(volume_links)} link artikel unik:\")\n",
    "for link in volume_links:\n",
    "    print(link)\n",
    "\n",
    "# Path penyimpanan CSV\n",
    "save_path = \"/Users/mackumara/Dev/AI/Topic-Modelling-Article-Titles/data/raw\"\n",
    "csv_file = os.path.join(save_path, \"article_links.csv\")\n",
    "\n",
    "# Pastikan direktori tujuan ada\n",
    "os.makedirs(save_path, exist_ok=True)\n",
    "\n",
    "# Simpan ke dalam file CSV\n",
    "with open(csv_file, \"w\", newline=\"\") as file:\n",
    "    writer = csv.writer(file)\n",
    "    writer.writerow([\"URL\"])  # Header CSV\n",
    "    for link in sorted(volume_links):  # Simpan dengan urutan untuk konsistensi\n",
    "        writer.writerow([link])\n",
    "\n",
    "print(f\"✅ Berhasil menyimpan {len(volume_links)}.\")\n",
    "\n",
    "# Tutup browser setelah selesai\n",
    "driver.quit()\n"
   ]
  },
  {
   "cell_type": "code",
   "execution_count": null,
   "metadata": {},
   "outputs": [],
   "source": []
  }
 ],
 "metadata": {
  "kernelspec": {
   "display_name": "Python 3",
   "language": "python",
   "name": "python3"
  },
  "language_info": {
   "codemirror_mode": {
    "name": "ipython",
    "version": 3
   },
   "file_extension": ".py",
   "mimetype": "text/x-python",
   "name": "python",
   "nbconvert_exporter": "python",
   "pygments_lexer": "ipython3",
   "version": "3.12.3"
  }
 },
 "nbformat": 4,
 "nbformat_minor": 2
}
