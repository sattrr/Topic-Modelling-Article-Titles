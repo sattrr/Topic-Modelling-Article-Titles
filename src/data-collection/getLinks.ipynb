{
 "cells": [
  {
   "cell_type": "code",
   "execution_count": 1,
   "metadata": {},
   "outputs": [],
   "source": [
    "import csv\n",
    "import os\n",
    "import time\n",
    "from selenium import webdriver\n",
    "from selenium.webdriver.common.by import By\n",
    "from bs4 import BeautifulSoup"
   ]
  },
  {
   "cell_type": "code",
   "execution_count": 2,
   "metadata": {},
   "outputs": [],
   "source": [
    "driver = webdriver.Chrome()\n",
    "\n",
    "target_url = \"https://ieeexplore.ieee.org/xpl/issues?punumber=6287639&isnumber=10820123\"\n",
    "driver.get(target_url)\n",
    "\n",
    "time.sleep(5)"
   ]
  },
  {
   "cell_type": "code",
   "execution_count": 3,
   "metadata": {},
   "outputs": [
    {
     "name": "stdout",
     "output_type": "stream",
     "text": [
      "🔗 Ditemukan 13 link artikel unik:\n",
      "https://ieeexplore.ieee.org/xpl/tocresult.jsp?isnumber=7859429&punumber=6287639\n",
      "https://ieeexplore.ieee.org/xpl/tocresult.jsp?isnumber=10820123&punumber=6287639\n",
      "https://ieeexplore.ieee.org/xpl/tocresult.jsp?isnumber=7419931&punumber=6287639\n",
      "https://ieeexplore.ieee.org/xpl/tocresult.jsp?isnumber=10005208&punumber=6287639\n",
      "https://ieeexplore.ieee.org/xpl/tocresult.jsp?isnumber=8274985&punumber=6287639\n",
      "https://ieeexplore.ieee.org/xpl/tocresult.jsp?isnumber=6336544&punumber=6287639\n",
      "https://ieeexplore.ieee.org/xpl/tocresult.jsp?isnumber=9312710&punumber=6287639\n",
      "https://ieeexplore.ieee.org/xpl/tocresult.jsp?isnumber=8600701&punumber=6287639\n",
      "https://ieeexplore.ieee.org/xpl/tocresult.jsp?isnumber=9668973&punumber=6287639\n",
      "https://ieeexplore.ieee.org/xpl/tocresult.jsp?isnumber=6705689&punumber=6287639\n",
      "https://ieeexplore.ieee.org/xpl/tocresult.jsp?isnumber=8948470&punumber=6287639\n",
      "https://ieeexplore.ieee.org/xpl/tocresult.jsp?isnumber=7042252&punumber=6287639\n",
      "https://ieeexplore.ieee.org/xpl/tocresult.jsp?isnumber=10380310&punumber=6287639\n",
      "✅ Berhasil menyimpan 13 link\n"
     ]
    }
   ],
   "source": [
    "posts = driver.find_elements(By.CLASS_NAME, \"issue-details-past-tabs\")\n",
    "volume_links = set()\n",
    "\n",
    "for post in posts:\n",
    "    link_tags = post.find_elements(By.TAG_NAME, \"a\")\n",
    "    \n",
    "    for link_tag in link_tags:\n",
    "        href = link_tag.get_attribute(\"href\")\n",
    "        if href:\n",
    "            base_link = \"https://ieeexplore.ieee.org\" + href if href.startswith(\"/xpl\") else href\n",
    "            volume_links.add(base_link)\n",
    "\n",
    "print(f\"🔗 Ditemukan {len(volume_links)} link artikel unik:\")\n",
    "for link in volume_links:\n",
    "    print(link)\n",
    "\n",
    "save_path = \"../../data/raw/\"\n",
    "csv_file = os.path.join(save_path, \"article_links.csv\")\n",
    "\n",
    "os.makedirs(save_path, exist_ok=True)\n",
    "\n",
    "with open(csv_file, \"w\", newline=\"\") as file:\n",
    "    writer = csv.writer(file)\n",
    "    writer.writerow([\"URL\"])\n",
    "    for link in sorted(volume_links):\n",
    "        writer.writerow([link])\n",
    "\n",
    "print(f\"✅ Berhasil menyimpan {len(volume_links)} link\")\n",
    "\n",
    "driver.quit()"
   ]
  }
 ],
 "metadata": {
  "kernelspec": {
   "display_name": "Python 3",
   "language": "python",
   "name": "python3"
  },
  "language_info": {
   "codemirror_mode": {
    "name": "ipython",
    "version": 3
   },
   "file_extension": ".py",
   "mimetype": "text/x-python",
   "name": "python",
   "nbconvert_exporter": "python",
   "pygments_lexer": "ipython3",
   "version": "3.11.1"
  }
 },
 "nbformat": 4,
 "nbformat_minor": 2
}
